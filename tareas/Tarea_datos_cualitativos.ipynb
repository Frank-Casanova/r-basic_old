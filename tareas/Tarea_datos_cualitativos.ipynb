{
 "cells": [
  {
   "cell_type": "markdown",
   "id": "7915c21b",
   "metadata": {},
   "source": [
    "# Tarea de Estadística descriptiva con datos cualitativos"
   ]
  },
  {
   "cell_type": "code",
   "execution_count": null,
   "id": "cf034712",
   "metadata": {},
   "outputs": [],
   "source": [
    "alumnos = []"
   ]
  }
 ],
 "metadata": {
  "kernelspec": {
   "display_name": "Python 3 (ipykernel)",
   "language": "python",
   "name": "python3"
  },
  "language_info": {
   "codemirror_mode": {
    "name": "ipython",
    "version": 3
   },
   "file_extension": ".py",
   "mimetype": "text/x-python",
   "name": "python",
   "nbconvert_exporter": "python",
   "pygments_lexer": "ipython3",
   "version": "3.9.7"
  }
 },
 "nbformat": 4,
 "nbformat_minor": 5
}
